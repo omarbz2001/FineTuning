{
 "cells": [
  {
   "cell_type": "code",
   "execution_count": 6,
   "id": "607bdbcc",
   "metadata": {},
   "outputs": [],
   "source": [
    "from transformers import T5Tokenizer, T5ForConditionalGeneration"
   ]
  },
  {
   "cell_type": "code",
   "execution_count": 7,
   "id": "703b0585",
   "metadata": {},
   "outputs": [
    {
     "name": "stdout",
     "output_type": "stream",
     "text": [
      "4.36.2\n"
     ]
    }
   ],
   "source": [
    "import transformers\n",
    "print(transformers.__version__)\n"
   ]
  },
  {
   "cell_type": "code",
   "execution_count": 8,
   "id": "89f5df81",
   "metadata": {},
   "outputs": [
    {
     "name": "stdout",
     "output_type": "stream",
     "text": [
      "2.9.0+cu128\n"
     ]
    }
   ],
   "source": [
    "import torch\n",
    "print(torch.__version__)"
   ]
  },
  {
   "cell_type": "code",
   "execution_count": 9,
   "id": "3071ab6f",
   "metadata": {},
   "outputs": [
    {
     "name": "stderr",
     "output_type": "stream",
     "text": [
      "Special tokens have been added in the vocabulary, make sure the associated word embeddings are fine-tuned or trained.\n"
     ]
    }
   ],
   "source": [
    "model = T5ForConditionalGeneration.from_pretrained('google/flan-t5-base')\n",
    "tokenizer = T5Tokenizer.from_pretrained(\n",
    "    'google/flan-t5-base',\n",
    "    skip_chat_template=True\n",
    ")"
   ]
  },
  {
   "cell_type": "code",
   "execution_count": 10,
   "id": "7e443c6c",
   "metadata": {},
   "outputs": [
    {
     "name": "stdout",
     "output_type": "stream",
     "text": [
      "Parents are being asked to consider whether video games are suitable for children.\n"
     ]
    }
   ],
   "source": [
    "input_text = \"summarize: Parents face video game lessons Ways of ensuring that parents know which video games are suitable for children are to be considered by the games industry.The issue was discussed at a meeting between UK government officials, industry representatives and the British Board of Film Classification. It follows concerns that children may be playing games aimed at adults which include high levels of violence. In 2003, Britons spent £1,152m on games, more than ever before. And this Christmas, parents are expected to spend millions on video games and consoles.\"\n",
    "inputs = tokenizer(input_text, return_tensors='pt')\n",
    "\n",
    "output = model.generate(**inputs, max_length=50)\n",
    "summary = tokenizer.decode(output[0], skip_special_tokens=True)\n",
    "\n",
    "print(summary)"
   ]
  },
  {
   "cell_type": "markdown",
   "id": "4c99a4b3",
   "metadata": {},
   "source": [
    "## Read and combine the dataset"
   ]
  },
  {
   "cell_type": "code",
   "execution_count": 4,
   "id": "771576dc",
   "metadata": {},
   "outputs": [
    {
     "name": "stdout",
     "output_type": "stream",
     "text": [
      "Total samples: 2225\n",
      "Categories: ['business' 'entertainment' 'politics' 'sport' 'tech']\n",
      "   category                                            article  \\\n",
      "0  business  Ad sales boost Time Warner profit\\n\\nQuarterly...   \n",
      "1  business  Dollar gains on Greenspan speech\\n\\nThe dollar...   \n",
      "2  business  Yukos unit buyer faces loan claim\\n\\nThe owner...   \n",
      "3  business  High fuel prices hit BA's profits\\n\\nBritish A...   \n",
      "4  business  Pernod takeover talk lifts Domecq\\n\\nShares in...   \n",
      "\n",
      "                                             summary  \n",
      "0  TimeWarner said fourth quarter sales rose 2% t...  \n",
      "1  The dollar has hit its highest level against t...  \n",
      "2  Yukos' owner Menatep Group says it will ask Ro...  \n",
      "3  Rod Eddington, BA's chief executive, said the ...  \n",
      "4  Pernod has reduced the debt it took on to fund...  \n"
     ]
    }
   ],
   "source": [
    "import os\n",
    "import pandas as pd\n",
    "\n",
    "\n",
    "base_path = \"BBC News Summary\" \n",
    "\n",
    "articles_dir = os.path.join(base_path, \"News Articles\")\n",
    "summaries_dir = os.path.join(base_path, \"Summaries\")\n",
    "\n",
    "data = []\n",
    "\n",
    "# Loop through categories (business, politics, sport, etc.)\n",
    "for category in os.listdir(articles_dir):\n",
    "    article_cat_dir = os.path.join(articles_dir, category)\n",
    "    summary_cat_dir = os.path.join(summaries_dir, category)\n",
    "    \n",
    "    for fname in os.listdir(article_cat_dir):\n",
    "        article_path = os.path.join(article_cat_dir, fname)\n",
    "        summary_path = os.path.join(summary_cat_dir, fname)\n",
    "        \n",
    "        if os.path.exists(article_path) and os.path.exists(summary_path):\n",
    "            \n",
    "            with open(article_path, \"r\", encoding=\"utf-8\", errors=\"replace\") as f:\n",
    "                article = f.read().strip()\n",
    "            with open(summary_path, \"r\", encoding=\"utf-8\", errors=\"replace\") as f:\n",
    "                summary = f.read().strip()\n",
    "            \n",
    "            data.append({\n",
    "                \"category\": category,\n",
    "                \"article\": article,\n",
    "                \"summary\": summary\n",
    "            })\n",
    "\n",
    "\n",
    "df = pd.DataFrame(data)\n",
    "\n",
    "\n",
    "print(f\"Total samples: {len(df)}\")\n",
    "print(\"Categories:\", df['category'].unique())\n",
    "print(df.head())\n"
   ]
  },
  {
   "cell_type": "markdown",
   "id": "b3d21183",
   "metadata": {},
   "source": [
    "## Clean and inspect text"
   ]
  },
  {
   "cell_type": "code",
   "execution_count": 5,
   "id": "299f9b24",
   "metadata": {},
   "outputs": [
    {
     "name": "stdout",
     "output_type": "stream",
     "text": [
      "Average article length: 425.78426966292136\n",
      "Average summary length: 189.6485393258427\n"
     ]
    },
    {
     "data": {
      "text/html": [
       "<div>\n",
       "<style scoped>\n",
       "    .dataframe tbody tr th:only-of-type {\n",
       "        vertical-align: middle;\n",
       "    }\n",
       "\n",
       "    .dataframe tbody tr th {\n",
       "        vertical-align: top;\n",
       "    }\n",
       "\n",
       "    .dataframe thead th {\n",
       "        text-align: right;\n",
       "    }\n",
       "</style>\n",
       "<table border=\"1\" class=\"dataframe\">\n",
       "  <thead>\n",
       "    <tr style=\"text-align: right;\">\n",
       "      <th></th>\n",
       "      <th>category</th>\n",
       "      <th>article</th>\n",
       "      <th>summary</th>\n",
       "    </tr>\n",
       "  </thead>\n",
       "  <tbody>\n",
       "    <tr>\n",
       "      <th>1310</th>\n",
       "      <td>politics</td>\n",
       "      <td>Labour MP praises Tory campaign The Conservati...</td>\n",
       "      <td>A Labour party spokesman played down differenc...</td>\n",
       "    </tr>\n",
       "    <tr>\n",
       "      <th>2121</th>\n",
       "      <td>tech</td>\n",
       "      <td>Napster offers rented music to go Music downlo...</td>\n",
       "      <td>This has outraged some digital music lovers , ...</td>\n",
       "    </tr>\n",
       "    <tr>\n",
       "      <th>239</th>\n",
       "      <td>business</td>\n",
       "      <td>Economy 'strong' in election year UK businesse...</td>\n",
       "      <td>The BDO optimism index - a leading indicator o...</td>\n",
       "    </tr>\n",
       "    <tr>\n",
       "      <th>0</th>\n",
       "      <td>business</td>\n",
       "      <td>Ad sales boost Time Warner profit Quarterly pr...</td>\n",
       "      <td>TimeWarner said fourth quarter sales rose 2% t...</td>\n",
       "    </tr>\n",
       "    <tr>\n",
       "      <th>1774</th>\n",
       "      <td>sport</td>\n",
       "      <td>Navratilova hits out at critics Martina Navrat...</td>\n",
       "      <td>Navratilova , who made a comeback after retiri...</td>\n",
       "    </tr>\n",
       "  </tbody>\n",
       "</table>\n",
       "</div>"
      ],
      "text/plain": [
       "      category                                            article  \\\n",
       "1310  politics  Labour MP praises Tory campaign The Conservati...   \n",
       "2121      tech  Napster offers rented music to go Music downlo...   \n",
       "239   business  Economy 'strong' in election year UK businesse...   \n",
       "0     business  Ad sales boost Time Warner profit Quarterly pr...   \n",
       "1774     sport  Navratilova hits out at critics Martina Navrat...   \n",
       "\n",
       "                                                summary  \n",
       "1310  A Labour party spokesman played down differenc...  \n",
       "2121  This has outraged some digital music lovers , ...  \n",
       "239   The BDO optimism index - a leading indicator o...  \n",
       "0     TimeWarner said fourth quarter sales rose 2% t...  \n",
       "1774  Navratilova , who made a comeback after retiri...  "
      ]
     },
     "execution_count": 5,
     "metadata": {},
     "output_type": "execute_result"
    }
   ],
   "source": [
    "import re\n",
    "\n",
    "def clean_text(text):\n",
    "    text = re.sub(r'\\s+', ' ', text) \n",
    "    text = re.sub(r'([.,!?;:])', r' \\1 ', text)  \n",
    "    text = re.sub(r'\\s{2,}', ' ', text)\n",
    "    return text.strip()\n",
    "\n",
    "df[\"article\"] = df[\"article\"].apply(clean_text)\n",
    "df[\"summary\"] = df[\"summary\"].apply(clean_text)\n",
    "\n",
    "print(\"Average article length:\", df[\"article\"].apply(lambda x: len(x.split())).mean())\n",
    "print(\"Average summary length:\", df[\"summary\"].apply(lambda x: len(x.split())).mean())\n",
    "\n",
    "df.sample(5)\n"
   ]
  },
  {
   "cell_type": "markdown",
   "id": "cab035ef",
   "metadata": {},
   "source": [
    "## Split into train, validation, test sets"
   ]
  },
  {
   "cell_type": "code",
   "execution_count": 6,
   "id": "263181af",
   "metadata": {},
   "outputs": [
    {
     "name": "stdout",
     "output_type": "stream",
     "text": [
      "Train: 1801, Val: 201, Test: 223\n"
     ]
    }
   ],
   "source": [
    "from sklearn.model_selection import train_test_split\n",
    "\n",
    "train_df, test_df = train_test_split(df, test_size=0.1, random_state=42)\n",
    "train_df, val_df = train_test_split(train_df, test_size=0.1, random_state=42)\n",
    "\n",
    "print(f\"Train: {len(train_df)}, Val: {len(val_df)}, Test: {len(test_df)}\")\n"
   ]
  },
  {
   "cell_type": "markdown",
   "id": "0b332694",
   "metadata": {},
   "source": [
    "## Save cleaned data for later stages"
   ]
  },
  {
   "cell_type": "code",
   "execution_count": 7,
   "id": "548157ec",
   "metadata": {},
   "outputs": [],
   "source": [
    "train_df.to_csv(\"data/train.csv\", index=False)\n",
    "val_df.to_csv(\"data/val.csv\", index=False)\n",
    "test_df.to_csv(\"data/test.csv\", index=False)\n"
   ]
  },
  {
   "cell_type": "markdown",
   "id": "5e600274",
   "metadata": {},
   "source": [
    "## Quick sanity check"
   ]
  },
  {
   "cell_type": "code",
   "execution_count": 8,
   "id": "25222ebe",
   "metadata": {},
   "outputs": [
    {
     "name": "stdout",
     "output_type": "stream",
     "text": [
      "\n",
      "CATEGORY: tech\n",
      "ARTICLE: Norway upholds 'Napster' ruling A Norwegian student who ran a website which linked to downloadable MP3 files has been ordered to pay compensation by the country's Supreme Court . Frank Allan Bruvik was ordered to pay 100 , 000 kroner (£8 , 000) to the music industry in Norway . He was a student when he set up his napster . no site , which allowed users to submit and receive links to MP3 files . Bruvik had earlier been cleared on appeal after a lower court had found for the music industry . Music ...\n",
      "SUMMARY: Frank Allan Bruvik was ordered to pay 100 , 000 kroner (£8 , 000) to the music industry in Norway . Norway's music industry said it was satisfied with the ruling , because showed that music piracy would not be accepted . A Norwegian court ruled in 2003 that Bruvik would have to pay 100 , 000 kroner to the music industry , but the country's Court of Appeal cleared him , saying that the copyright violation occurred when others posted the music . Bruvik's site was online between August and November 2001 , and while it did not host any music , at its peak it was providing links to more than 170 free files on other servers . However , the Supreme Court stated that the music was clearly published in violation of copyright law It added that the case was decided based on the responsibility for abetting an illegal act , and that Bruvik's actions were premeditated . A legal complaint for copyright violation was filed by groups including Norway's performing rights society , Tono , and the Norwegian branches of Sony Music and Universal Music , who saw it as an important test of principle . Bruvik had earlier been cleared on appeal after a lower court had found for the music industry .\n",
      "\n",
      "CATEGORY: sport\n",
      "ARTICLE: Saint-Andre anger at absent stars Sale Sharks director of rugby Philippe Saint-Andre has re-opened rugby's club-versus-country debate . Sale host Bath in the Powergen Cup on Friday , but the Frenchman has endured a \"difficult week\" with six players away on England's Six Nations training camp . \"It's an important game but we've just the one full session . It's the same for everyone but we need to manage it . \"If five players or more are picked for your country they should move the date of the gam ...\n",
      "SUMMARY: \"They obviously want him for international rugby and we want him for club rugby in what is a very important game for us . Sale host Bath in the Powergen Cup on Friday , but the Frenchman has endured a \"difficult week\" with six players away on England's Six Nations training camp . \"Under the Elite Player Squad agreement , England wanted a second opinion , which they can do , \" director of rugby Nigel Melville told the Gloucester Citizen . \"Sebastien Bruno's been with France , Jason White with Scotland and there are six with England , that's eight players plus injuries - 13 players out of a squad of 31 . \"It's an important game but we've just the one full session . Simpson-Daniel added : \"I've said to Nigel I want to be back playing and that means if everything goes well this week , I can target the Worcester game (on 29 January) for a return . \"Gloucester have also been caught in a club-versus-country conflict after England sought a second medical opinion on James Simpson-Daniel's fitness . Sale Sharks director of rugby Philippe Saint-Andre has re-opened rugby's club-versus-country debate . Bath have just been knocked out of Europe and will make it a tough game . \"If five players or more are picked for your country they should move the date of the game , \" he told BBC Sport .\n",
      "\n",
      "CATEGORY: business\n",
      "ARTICLE: Bank opts to leave rates on hold The Bank of England has left interest rates on hold at 4 . 75% for a sixth month in a row . The Bank's Monetary Policy Committee (MPC) decided to take no action amid mixed signals from the economy . But some economists predict a further rise in the cost of borrowing will come later this year . Interest rates rose five times between November 2003 and August 2004 as soaring house prices and buoyant consumer data sparked inflation fears . Bank of England governor Me ...\n",
      "SUMMARY: Slower consumer spending and a quieter housing market are likely to have convinced the MPC that rates should be left unchanged in recent months . Howard Archer , economist at Global Insight said the MPC \"may well consider that the balance of risks to the growth and inflation outlook have moved from the downside to the upside\" . Economists see next week's inflation report from the MPC as key in assessing whether a further interest rate rise is necessary to keep the economy in check . Interest rates rose five times between November 2003 and August 2004 as soaring house prices and buoyant consumer data sparked inflation fears . Philip Shaw , chief economist at Investec Securities , said he believed rates would remain at 4 . 75% for the rest of the year although strong economic data could lead to a further hike . The British Chambers of Commerce (BCC) said it was \"concerned by the clamour in some quarters\" for early interest rate increases . The Bank of England has left interest rates on hold at 4 . 75% for a sixth month in a row . Data on Wednesday also showed manufacturing output rose at its fastest rate since May last month , reinforcing a view that economic growth was stronger than forecasts . \"Growth appears stronger and the MPC may become more concerned about inflation trends . \"\n"
     ]
    }
   ],
   "source": [
    "for i in range(3):\n",
    "    print(f\"\\nCATEGORY: {train_df.iloc[i]['category']}\")\n",
    "    print(\"ARTICLE:\", train_df.iloc[i]['article'][:500], \"...\")\n",
    "    print(\"SUMMARY:\", train_df.iloc[i]['summary'])"
   ]
  },
  {
   "cell_type": "markdown",
   "id": "e8605d12",
   "metadata": {},
   "source": [
    "## Prepare for tokenization (T5/BART) "
   ]
  },
  {
   "cell_type": "code",
   "execution_count": 9,
   "id": "4bf12bd6",
   "metadata": {},
   "outputs": [
    {
     "name": "stderr",
     "output_type": "stream",
     "text": [
      "/mnt/c/Users/bouaz/Desktop/FineTuning_project/env/lib/python3.12/site-packages/transformers/utils/generic.py:441: FutureWarning: `torch.utils._pytree._register_pytree_node` is deprecated. Please use `torch.utils._pytree.register_pytree_node` instead.\n",
      "  _torch_pytree._register_pytree_node(\n",
      "/mnt/c/Users/bouaz/Desktop/FineTuning_project/env/lib/python3.12/site-packages/huggingface_hub/file_download.py:945: FutureWarning: `resume_download` is deprecated and will be removed in version 1.0.0. Downloads always resume when possible. If you want to force a new download, use `force_download=True`.\n",
      "  warnings.warn(\n"
     ]
    },
    {
     "name": "stdout",
     "output_type": "stream",
     "text": [
      "torch.Size([1, 512])\n"
     ]
    }
   ],
   "source": [
    "from transformers import AutoTokenizer\n",
    "\n",
    "\n",
    "model_name_t5 = \"google/flan-t5-base\"\n",
    "model_name_bart = \"facebook/bart-base\"\n",
    "\n",
    "tokenizer_t5 = AutoTokenizer.from_pretrained(model_name_t5)\n",
    "tokenizer_bart = AutoTokenizer.from_pretrained(model_name_bart)\n",
    "\n",
    "# Example tokenization test\n",
    "sample = train_df.iloc[0][\"article\"]\n",
    "inputs = tokenizer_t5(\"summarize: \" + sample, max_length=512, truncation=True, return_tensors=\"pt\")\n",
    "print(inputs[\"input_ids\"].shape)\n"
   ]
  },
  {
   "cell_type": "markdown",
   "id": "90adff7d",
   "metadata": {},
   "source": [
    "## Tokenize and prepare Hugging Face Datasets"
   ]
  },
  {
   "cell_type": "code",
   "execution_count": 10,
   "id": "896200c2",
   "metadata": {},
   "outputs": [
    {
     "name": "stderr",
     "output_type": "stream",
     "text": [
      "Map: 100%|██████████| 1801/1801 [00:02<00:00, 897.28 examples/s]\n",
      "Map: 100%|██████████| 201/201 [00:00<00:00, 1163.48 examples/s]\n",
      "Map: 100%|██████████| 223/223 [00:00<00:00, 856.31 examples/s]\n",
      "Map: 100%|██████████| 1801/1801 [00:01<00:00, 933.80 examples/s] \n",
      "Map: 100%|██████████| 201/201 [00:00<00:00, 1389.56 examples/s]\n",
      "Map: 100%|██████████| 223/223 [00:00<00:00, 1147.17 examples/s]\n"
     ]
    },
    {
     "name": "stdout",
     "output_type": "stream",
     "text": [
      "T5 sample input_ids: [21603, 10, 16491, 95, 6134, 7, 3, 31, 567, 9]\n",
      "BART sample input_ids: [0, 29723, 1970, 16060, 29, 128, 37549, 3121, 108, 2255]\n"
     ]
    }
   ],
   "source": [
    "from datasets import Dataset\n",
    "import pandas as pd\n",
    "#Load CSVs into Hugging Face Datasets\n",
    "\n",
    "train_df = pd.read_csv(\"data/train.csv\")\n",
    "val_df = pd.read_csv(\"data/val.csv\")\n",
    "test_df = pd.read_csv(\"data/test.csv\")\n",
    "\n",
    "train_ds = Dataset.from_pandas(train_df)\n",
    "val_ds = Dataset.from_pandas(val_df)\n",
    "test_ds = Dataset.from_pandas(test_df)\n",
    "\n",
    "# Define tokenization function\n",
    "\n",
    "def tokenize_function_t5(batch):\n",
    "    inputs = [\"summarize: \" + text for text in batch[\"article\"]]\n",
    "    model_inputs = tokenizer_t5(inputs, max_length=512, truncation=True)\n",
    "    labels = tokenizer_t5(batch[\"summary\"], max_length=128, truncation=True)\n",
    "    model_inputs[\"labels\"] = labels[\"input_ids\"]\n",
    "    return model_inputs\n",
    "\n",
    "def tokenize_function_bart(batch):\n",
    "    inputs = batch[\"article\"]\n",
    "    model_inputs = tokenizer_bart(inputs, max_length=512, truncation=True)\n",
    "    labels = tokenizer_bart(batch[\"summary\"], max_length=128, truncation=True)\n",
    "    model_inputs[\"labels\"] = labels[\"input_ids\"]\n",
    "    return model_inputs\n",
    "\n",
    "#  Apply tokenization\n",
    "\n",
    "tokenized_train_t5 = train_ds.map(tokenize_function_t5, batched=True)\n",
    "tokenized_val_t5 = val_ds.map(tokenize_function_t5, batched=True)\n",
    "tokenized_test_t5 = test_ds.map(tokenize_function_t5, batched=True)\n",
    "\n",
    "tokenized_train_bart = train_ds.map(tokenize_function_bart, batched=True)\n",
    "tokenized_val_bart = val_ds.map(tokenize_function_bart, batched=True)\n",
    "tokenized_test_bart = test_ds.map(tokenize_function_bart, batched=True)\n",
    "\n",
    "# Quick sanity check\n",
    "\n",
    "print(\"T5 sample input_ids:\", tokenized_train_t5[0][\"input_ids\"][:10])\n",
    "print(\"BART sample input_ids:\", tokenized_train_bart[0][\"input_ids\"][:10])\n"
   ]
  },
  {
   "cell_type": "code",
   "execution_count": null,
   "id": "e69a4dbf",
   "metadata": {},
   "outputs": [],
   "source": []
  }
 ],
 "metadata": {
  "kernelspec": {
   "display_name": "env",
   "language": "python",
   "name": "python3"
  },
  "language_info": {
   "codemirror_mode": {
    "name": "ipython",
    "version": 3
   },
   "file_extension": ".py",
   "mimetype": "text/x-python",
   "name": "python",
   "nbconvert_exporter": "python",
   "pygments_lexer": "ipython3",
   "version": "3.12.3"
  }
 },
 "nbformat": 4,
 "nbformat_minor": 5
}
